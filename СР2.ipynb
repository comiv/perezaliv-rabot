{
 "cells": [
  {
   "cell_type": "code",
   "execution_count": 92,
   "metadata": {},
   "outputs": [],
   "source": [
    "#загружаем библиотеки\n",
    "from sklearn.model_selection import train_test_split\n",
    "import numpy as np\n",
    "import pandas as pd\n",
    "import matplotlib.pyplot as plt\n",
    "from sklearn.linear_model import LogisticRegression\n",
    "from sklearn.metrics import accuracy_score, balanced_accuracy_score, roc_auc_score"
   ]
  },
  {
   "cell_type": "code",
   "execution_count": null,
   "metadata": {},
   "outputs": [],
   "source": [
    "df = pd.read_csv(\"datasets_271144_562549_african_crises.csv\")"
   ]
  },
  {
   "cell_type": "code",
   "execution_count": null,
   "metadata": {},
   "outputs": [],
   "source": [
    "#смотрим на наши данные\n",
    "df"
   ]
  },
  {
   "cell_type": "code",
   "execution_count": 151,
   "metadata": {},
   "outputs": [
    {
     "data": {
      "text/plain": [
       "array(['crisis', 'no_crisis'], dtype=object)"
      ]
     },
     "execution_count": 151,
     "metadata": {},
     "output_type": "execute_result"
    }
   ],
   "source": [
    "#категориальные переменные\n",
    "df[\"banking_crisis\"].unique()"
   ]
  },
  {
   "cell_type": "code",
   "execution_count": 152,
   "metadata": {},
   "outputs": [],
   "source": [
    "#\"crisis\" - 1\n",
    "#\"no_crisis\" - 0"
   ]
  },
  {
   "cell_type": "code",
   "execution_count": 153,
   "metadata": {},
   "outputs": [
    {
     "data": {
      "text/plain": [
       "0       0\n",
       "1       1\n",
       "2       1\n",
       "3       1\n",
       "4       1\n",
       "       ..\n",
       "1054    0\n",
       "1055    1\n",
       "1056    1\n",
       "1057    1\n",
       "1058    1\n",
       "Name: banking_crisis, Length: 1059, dtype: int64"
      ]
     },
     "execution_count": 153,
     "metadata": {},
     "output_type": "execute_result"
    }
   ],
   "source": [
    "df[\"banking_crisis\"].apply(lambda x: [\"crisis\", \"no_crisis\"].index(x))"
   ]
  },
  {
   "cell_type": "code",
   "execution_count": 98,
   "metadata": {},
   "outputs": [
    {
     "data": {
      "text/plain": [
       "Index(['case', 'cc3', 'country', 'year', 'systemic_crisis', 'exch_usd',\n",
       "       'domestic_debt_in_default', 'sovereign_external_debt_default',\n",
       "       'gdp_weighted_default', 'inflation_annual_cpi', 'independence',\n",
       "       'currency_crises', 'inflation_crises', 'banking_crisis'],\n",
       "      dtype='object')"
      ]
     },
     "execution_count": 98,
     "metadata": {},
     "output_type": "execute_result"
    }
   ],
   "source": [
    "#смотрим,какие колонки у нас есть\n",
    "df.columns"
   ]
  },
  {
   "cell_type": "code",
   "execution_count": 99,
   "metadata": {},
   "outputs": [],
   "source": [
    "#оставляем все колонки, кроме: 'case' - число, обозначающее определенную страну, 'cc3'-трехзначный код страны,\n",
    "#'country'-страна (нам нужна только 1 Angola), 'year'- год наблюдения) "
   ]
  },
  {
   "cell_type": "code",
   "execution_count": 100,
   "metadata": {},
   "outputs": [],
   "source": [
    "import re"
   ]
  },
  {
   "cell_type": "code",
   "execution_count": 154,
   "metadata": {},
   "outputs": [
    {
     "data": {
      "text/html": [
       "<div>\n",
       "<style scoped>\n",
       "    .dataframe tbody tr th:only-of-type {\n",
       "        vertical-align: middle;\n",
       "    }\n",
       "\n",
       "    .dataframe tbody tr th {\n",
       "        vertical-align: top;\n",
       "    }\n",
       "\n",
       "    .dataframe thead th {\n",
       "        text-align: right;\n",
       "    }\n",
       "</style>\n",
       "<table border=\"1\" class=\"dataframe\">\n",
       "  <thead>\n",
       "    <tr style=\"text-align: right;\">\n",
       "      <th></th>\n",
       "      <th>case</th>\n",
       "      <th>cc3</th>\n",
       "      <th>country</th>\n",
       "      <th>year</th>\n",
       "      <th>systemic_crisis</th>\n",
       "      <th>exch_usd</th>\n",
       "      <th>domestic_debt_in_default</th>\n",
       "      <th>sovereign_external_debt_default</th>\n",
       "      <th>gdp_weighted_default</th>\n",
       "      <th>inflation_annual_cpi</th>\n",
       "      <th>independence</th>\n",
       "      <th>currency_crises</th>\n",
       "      <th>inflation_crises</th>\n",
       "      <th>banking_crisis</th>\n",
       "    </tr>\n",
       "  </thead>\n",
       "  <tbody>\n",
       "    <tr>\n",
       "      <th>85</th>\n",
       "      <td>2</td>\n",
       "      <td>AGO</td>\n",
       "      <td>Angola</td>\n",
       "      <td>1921</td>\n",
       "      <td>0</td>\n",
       "      <td>1.250000e-08</td>\n",
       "      <td>0</td>\n",
       "      <td>0</td>\n",
       "      <td>0.0</td>\n",
       "      <td>29.629630</td>\n",
       "      <td>0</td>\n",
       "      <td>0</td>\n",
       "      <td>1</td>\n",
       "      <td>no_crisis</td>\n",
       "    </tr>\n",
       "    <tr>\n",
       "      <th>86</th>\n",
       "      <td>2</td>\n",
       "      <td>AGO</td>\n",
       "      <td>Angola</td>\n",
       "      <td>1922</td>\n",
       "      <td>0</td>\n",
       "      <td>2.210000e-08</td>\n",
       "      <td>0</td>\n",
       "      <td>0</td>\n",
       "      <td>0.0</td>\n",
       "      <td>45.714286</td>\n",
       "      <td>0</td>\n",
       "      <td>0</td>\n",
       "      <td>1</td>\n",
       "      <td>no_crisis</td>\n",
       "    </tr>\n",
       "    <tr>\n",
       "      <th>87</th>\n",
       "      <td>2</td>\n",
       "      <td>AGO</td>\n",
       "      <td>Angola</td>\n",
       "      <td>1923</td>\n",
       "      <td>0</td>\n",
       "      <td>2.810000e-08</td>\n",
       "      <td>0</td>\n",
       "      <td>0</td>\n",
       "      <td>0.0</td>\n",
       "      <td>68.627451</td>\n",
       "      <td>0</td>\n",
       "      <td>0</td>\n",
       "      <td>1</td>\n",
       "      <td>no_crisis</td>\n",
       "    </tr>\n",
       "    <tr>\n",
       "      <th>88</th>\n",
       "      <td>2</td>\n",
       "      <td>AGO</td>\n",
       "      <td>Angola</td>\n",
       "      <td>1924</td>\n",
       "      <td>0</td>\n",
       "      <td>2.080000e-08</td>\n",
       "      <td>0</td>\n",
       "      <td>0</td>\n",
       "      <td>0.0</td>\n",
       "      <td>126.744186</td>\n",
       "      <td>0</td>\n",
       "      <td>0</td>\n",
       "      <td>1</td>\n",
       "      <td>no_crisis</td>\n",
       "    </tr>\n",
       "    <tr>\n",
       "      <th>89</th>\n",
       "      <td>2</td>\n",
       "      <td>AGO</td>\n",
       "      <td>Angola</td>\n",
       "      <td>1925</td>\n",
       "      <td>0</td>\n",
       "      <td>1.950000e-08</td>\n",
       "      <td>0</td>\n",
       "      <td>0</td>\n",
       "      <td>0.0</td>\n",
       "      <td>-27.179487</td>\n",
       "      <td>0</td>\n",
       "      <td>0</td>\n",
       "      <td>0</td>\n",
       "      <td>no_crisis</td>\n",
       "    </tr>\n",
       "    <tr>\n",
       "      <th>...</th>\n",
       "      <td>...</td>\n",
       "      <td>...</td>\n",
       "      <td>...</td>\n",
       "      <td>...</td>\n",
       "      <td>...</td>\n",
       "      <td>...</td>\n",
       "      <td>...</td>\n",
       "      <td>...</td>\n",
       "      <td>...</td>\n",
       "      <td>...</td>\n",
       "      <td>...</td>\n",
       "      <td>...</td>\n",
       "      <td>...</td>\n",
       "      <td>...</td>\n",
       "    </tr>\n",
       "    <tr>\n",
       "      <th>157</th>\n",
       "      <td>2</td>\n",
       "      <td>AGO</td>\n",
       "      <td>Angola</td>\n",
       "      <td>2010</td>\n",
       "      <td>0</td>\n",
       "      <td>9.264300e+01</td>\n",
       "      <td>0</td>\n",
       "      <td>0</td>\n",
       "      <td>0.0</td>\n",
       "      <td>14.480000</td>\n",
       "      <td>1</td>\n",
       "      <td>0</td>\n",
       "      <td>0</td>\n",
       "      <td>no_crisis</td>\n",
       "    </tr>\n",
       "    <tr>\n",
       "      <th>158</th>\n",
       "      <td>2</td>\n",
       "      <td>AGO</td>\n",
       "      <td>Angola</td>\n",
       "      <td>2011</td>\n",
       "      <td>0</td>\n",
       "      <td>9.527200e+01</td>\n",
       "      <td>0</td>\n",
       "      <td>0</td>\n",
       "      <td>0.0</td>\n",
       "      <td>13.484000</td>\n",
       "      <td>1</td>\n",
       "      <td>0</td>\n",
       "      <td>0</td>\n",
       "      <td>no_crisis</td>\n",
       "    </tr>\n",
       "    <tr>\n",
       "      <th>159</th>\n",
       "      <td>2</td>\n",
       "      <td>AGO</td>\n",
       "      <td>Angola</td>\n",
       "      <td>2012</td>\n",
       "      <td>0</td>\n",
       "      <td>9.582589e+01</td>\n",
       "      <td>0</td>\n",
       "      <td>0</td>\n",
       "      <td>0.0</td>\n",
       "      <td>10.285000</td>\n",
       "      <td>1</td>\n",
       "      <td>0</td>\n",
       "      <td>0</td>\n",
       "      <td>no_crisis</td>\n",
       "    </tr>\n",
       "    <tr>\n",
       "      <th>160</th>\n",
       "      <td>2</td>\n",
       "      <td>AGO</td>\n",
       "      <td>Angola</td>\n",
       "      <td>2013</td>\n",
       "      <td>0</td>\n",
       "      <td>9.756000e+01</td>\n",
       "      <td>0</td>\n",
       "      <td>0</td>\n",
       "      <td>0.0</td>\n",
       "      <td>8.782000</td>\n",
       "      <td>1</td>\n",
       "      <td>0</td>\n",
       "      <td>0</td>\n",
       "      <td>no_crisis</td>\n",
       "    </tr>\n",
       "    <tr>\n",
       "      <th>161</th>\n",
       "      <td>2</td>\n",
       "      <td>AGO</td>\n",
       "      <td>Angola</td>\n",
       "      <td>2014</td>\n",
       "      <td>0</td>\n",
       "      <td>1.014900e+02</td>\n",
       "      <td>0</td>\n",
       "      <td>0</td>\n",
       "      <td>0.0</td>\n",
       "      <td>7.296000</td>\n",
       "      <td>1</td>\n",
       "      <td>0</td>\n",
       "      <td>0</td>\n",
       "      <td>no_crisis</td>\n",
       "    </tr>\n",
       "  </tbody>\n",
       "</table>\n",
       "<p>77 rows × 14 columns</p>\n",
       "</div>"
      ],
      "text/plain": [
       "     case  cc3 country  year  systemic_crisis      exch_usd  \\\n",
       "85      2  AGO  Angola  1921                0  1.250000e-08   \n",
       "86      2  AGO  Angola  1922                0  2.210000e-08   \n",
       "87      2  AGO  Angola  1923                0  2.810000e-08   \n",
       "88      2  AGO  Angola  1924                0  2.080000e-08   \n",
       "89      2  AGO  Angola  1925                0  1.950000e-08   \n",
       "..    ...  ...     ...   ...              ...           ...   \n",
       "157     2  AGO  Angola  2010                0  9.264300e+01   \n",
       "158     2  AGO  Angola  2011                0  9.527200e+01   \n",
       "159     2  AGO  Angola  2012                0  9.582589e+01   \n",
       "160     2  AGO  Angola  2013                0  9.756000e+01   \n",
       "161     2  AGO  Angola  2014                0  1.014900e+02   \n",
       "\n",
       "     domestic_debt_in_default  sovereign_external_debt_default  \\\n",
       "85                          0                                0   \n",
       "86                          0                                0   \n",
       "87                          0                                0   \n",
       "88                          0                                0   \n",
       "89                          0                                0   \n",
       "..                        ...                              ...   \n",
       "157                         0                                0   \n",
       "158                         0                                0   \n",
       "159                         0                                0   \n",
       "160                         0                                0   \n",
       "161                         0                                0   \n",
       "\n",
       "     gdp_weighted_default  inflation_annual_cpi  independence  \\\n",
       "85                    0.0             29.629630             0   \n",
       "86                    0.0             45.714286             0   \n",
       "87                    0.0             68.627451             0   \n",
       "88                    0.0            126.744186             0   \n",
       "89                    0.0            -27.179487             0   \n",
       "..                    ...                   ...           ...   \n",
       "157                   0.0             14.480000             1   \n",
       "158                   0.0             13.484000             1   \n",
       "159                   0.0             10.285000             1   \n",
       "160                   0.0              8.782000             1   \n",
       "161                   0.0              7.296000             1   \n",
       "\n",
       "     currency_crises  inflation_crises banking_crisis  \n",
       "85                 0                 1      no_crisis  \n",
       "86                 0                 1      no_crisis  \n",
       "87                 0                 1      no_crisis  \n",
       "88                 0                 1      no_crisis  \n",
       "89                 0                 0      no_crisis  \n",
       "..               ...               ...            ...  \n",
       "157                0                 0      no_crisis  \n",
       "158                0                 0      no_crisis  \n",
       "159                0                 0      no_crisis  \n",
       "160                0                 0      no_crisis  \n",
       "161                0                 0      no_crisis  \n",
       "\n",
       "[77 rows x 14 columns]"
      ]
     },
     "execution_count": 154,
     "metadata": {},
     "output_type": "execute_result"
    }
   ],
   "source": [
    "strana = r'Angola'\n",
    "df2 = df[df['country'].str.contains(strana)]\n",
    "df2"
   ]
  },
  {
   "cell_type": "code",
   "execution_count": 102,
   "metadata": {},
   "outputs": [],
   "source": [
    "from sklearn.preprocessing import OneHotEncoder"
   ]
  },
  {
   "cell_type": "code",
   "execution_count": 155,
   "metadata": {},
   "outputs": [],
   "source": [
    "enc = OneHotEncoder(categories='auto')"
   ]
  },
  {
   "cell_type": "code",
   "execution_count": 156,
   "metadata": {},
   "outputs": [
    {
     "data": {
      "text/plain": [
       "OneHotEncoder(categories='auto', drop=None, dtype=<class 'numpy.float64'>,\n",
       "              handle_unknown='error', sparse=True)"
      ]
     },
     "execution_count": 156,
     "metadata": {},
     "output_type": "execute_result"
    }
   ],
   "source": [
    "enc.fit(df2[df.columns[5:14]])"
   ]
  },
  {
   "cell_type": "code",
   "execution_count": 193,
   "metadata": {},
   "outputs": [],
   "source": [
    "Y = df2[\"inflation_crises\"].values\n",
    "#наша модель системного кризиса"
   ]
  },
  {
   "cell_type": "code",
   "execution_count": 194,
   "metadata": {
    "scrolled": true
   },
   "outputs": [],
   "source": [
    "df3 = enc.transform(df2[df.columns[5:14]]).toarray()"
   ]
  },
  {
   "cell_type": "code",
   "execution_count": 195,
   "metadata": {},
   "outputs": [
    {
     "data": {
      "text/plain": [
       "array([[1., 0., 0., ..., 1., 0., 1.],\n",
       "       [0., 0., 0., ..., 1., 0., 1.],\n",
       "       [0., 0., 0., ..., 1., 0., 1.],\n",
       "       ...,\n",
       "       [0., 0., 0., ..., 0., 0., 1.],\n",
       "       [0., 0., 0., ..., 0., 0., 1.],\n",
       "       [0., 0., 0., ..., 0., 0., 1.]])"
      ]
     },
     "execution_count": 195,
     "metadata": {},
     "output_type": "execute_result"
    }
   ],
   "source": [
    "df3"
   ]
  },
  {
   "cell_type": "code",
   "execution_count": 196,
   "metadata": {},
   "outputs": [],
   "source": [
    "#обучающие выборки\n",
    "train_X, test_X, train_Y, test_Y = train_test_split(df3, Y)"
   ]
  },
  {
   "cell_type": "code",
   "execution_count": 197,
   "metadata": {},
   "outputs": [],
   "source": [
    "model = LogisticRegression()\n",
    "#используем как модель логистическую регрессию"
   ]
  },
  {
   "cell_type": "code",
   "execution_count": 198,
   "metadata": {},
   "outputs": [
    {
     "data": {
      "text/plain": [
       "LogisticRegression(C=1.0, class_weight=None, dual=False, fit_intercept=True,\n",
       "                   intercept_scaling=1, l1_ratio=None, max_iter=100,\n",
       "                   multi_class='auto', n_jobs=None, penalty='l2',\n",
       "                   random_state=None, solver='lbfgs', tol=0.0001, verbose=0,\n",
       "                   warm_start=False)"
      ]
     },
     "execution_count": 198,
     "metadata": {},
     "output_type": "execute_result"
    }
   ],
   "source": [
    "model.fit(train_X, train_Y)"
   ]
  },
  {
   "cell_type": "code",
   "execution_count": 210,
   "metadata": {},
   "outputs": [],
   "source": [
    "#Модель предсказания инфляционного кризиса в Анголе\n",
    "test_Yhat = model.predict(test_X)"
   ]
  },
  {
   "cell_type": "code",
   "execution_count": 200,
   "metadata": {},
   "outputs": [
    {
     "data": {
      "text/plain": [
       "1.0"
      ]
     },
     "execution_count": 200,
     "metadata": {},
     "output_type": "execute_result"
    }
   ],
   "source": [
    "accuracy_score(test_Y, test_Yhat)\n",
    "balanced_accuracy_score(test_Y, test_Yhat)"
   ]
  },
  {
   "cell_type": "code",
   "execution_count": 201,
   "metadata": {},
   "outputs": [
    {
     "data": {
      "text/plain": [
       "1.0"
      ]
     },
     "execution_count": 201,
     "metadata": {},
     "output_type": "execute_result"
    }
   ],
   "source": [
    "roc_auc_score(test_Yhat, test_Y)"
   ]
  },
  {
   "cell_type": "markdown",
   "metadata": {},
   "source": [
    "Модель показывает, что инфляционный кризис будет"
   ]
  },
  {
   "cell_type": "code",
   "execution_count": 206,
   "metadata": {},
   "outputs": [
    {
     "data": {
      "text/plain": [
       "[<matplotlib.lines.Line2D at 0x2bd94b07348>]"
      ]
     },
     "execution_count": 206,
     "metadata": {},
     "output_type": "execute_result"
    },
    {
     "data": {
      "image/png": "[encoded data removed]",
      "text/plain": [
       "<Figure size 432x288 with 1 Axes>"
      ]
     },
     "metadata": {
      "needs_background": "light"
     },
     "output_type": "display_data"
    }
   ],
   "source": [
    "plt.plot(model.coef_.squeeze())"
   ]
  },
  {
   "cell_type": "code",
   "execution_count": 203,
   "metadata": {},
   "outputs": [
    {
     "data": {
      "text/html": [
       "<div>\n",
       "<style scoped>\n",
       "    .dataframe tbody tr th:only-of-type {\n",
       "        vertical-align: middle;\n",
       "    }\n",
       "\n",
       "    .dataframe tbody tr th {\n",
       "        vertical-align: top;\n",
       "    }\n",
       "\n",
       "    .dataframe thead th {\n",
       "        text-align: right;\n",
       "    }\n",
       "</style>\n",
       "<table border=\"1\" class=\"dataframe\">\n",
       "  <thead>\n",
       "    <tr style=\"text-align: right;\">\n",
       "      <th>inflation_annual_cpi</th>\n",
       "      <th>-2.850214e+01</th>\n",
       "      <th>-2.717949e+01</th>\n",
       "      <th>-2.092418e+01</th>\n",
       "      <th>-1.807366e+01</th>\n",
       "      <th>-1.742424e+01</th>\n",
       "      <th>-1.724138e+01</th>\n",
       "      <th>-1.687243e+01</th>\n",
       "      <th>-1.683136e+01</th>\n",
       "      <th>-1.600061e+01</th>\n",
       "      <th>-1.594203e+01</th>\n",
       "      <th>...</th>\n",
       "      <th>3.250290e+02</th>\n",
       "      <th>5.858444e+02</th>\n",
       "      <th>5.987448e+02</th>\n",
       "      <th>9.497710e+02</th>\n",
       "      <th>1.281114e+03</th>\n",
       "      <th>1.379476e+03</th>\n",
       "      <th>2.672230e+03</th>\n",
       "      <th>4.146010e+03</th>\n",
       "      <th>6.627989e+04</th>\n",
       "      <th>2.198970e+07</th>\n",
       "    </tr>\n",
       "    <tr>\n",
       "      <th>inflation_crises</th>\n",
       "      <th></th>\n",
       "      <th></th>\n",
       "      <th></th>\n",
       "      <th></th>\n",
       "      <th></th>\n",
       "      <th></th>\n",
       "      <th></th>\n",
       "      <th></th>\n",
       "      <th></th>\n",
       "      <th></th>\n",
       "      <th></th>\n",
       "      <th></th>\n",
       "      <th></th>\n",
       "      <th></th>\n",
       "      <th></th>\n",
       "      <th></th>\n",
       "      <th></th>\n",
       "      <th></th>\n",
       "      <th></th>\n",
       "      <th></th>\n",
       "      <th></th>\n",
       "    </tr>\n",
       "  </thead>\n",
       "  <tbody>\n",
       "    <tr>\n",
       "      <th>0</th>\n",
       "      <td>1</td>\n",
       "      <td>1</td>\n",
       "      <td>1</td>\n",
       "      <td>1</td>\n",
       "      <td>1</td>\n",
       "      <td>1</td>\n",
       "      <td>1</td>\n",
       "      <td>1</td>\n",
       "      <td>1</td>\n",
       "      <td>1</td>\n",
       "      <td>...</td>\n",
       "      <td>0</td>\n",
       "      <td>0</td>\n",
       "      <td>0</td>\n",
       "      <td>0</td>\n",
       "      <td>0</td>\n",
       "      <td>0</td>\n",
       "      <td>0</td>\n",
       "      <td>0</td>\n",
       "      <td>0</td>\n",
       "      <td>0</td>\n",
       "    </tr>\n",
       "    <tr>\n",
       "      <th>1</th>\n",
       "      <td>0</td>\n",
       "      <td>0</td>\n",
       "      <td>0</td>\n",
       "      <td>0</td>\n",
       "      <td>0</td>\n",
       "      <td>0</td>\n",
       "      <td>0</td>\n",
       "      <td>0</td>\n",
       "      <td>0</td>\n",
       "      <td>0</td>\n",
       "      <td>...</td>\n",
       "      <td>1</td>\n",
       "      <td>1</td>\n",
       "      <td>1</td>\n",
       "      <td>1</td>\n",
       "      <td>1</td>\n",
       "      <td>1</td>\n",
       "      <td>1</td>\n",
       "      <td>1</td>\n",
       "      <td>1</td>\n",
       "      <td>1</td>\n",
       "    </tr>\n",
       "  </tbody>\n",
       "</table>\n",
       "<p>2 rows × 1022 columns</p>\n",
       "</div>"
      ],
      "text/plain": [
       "inflation_annual_cpi  -2.850214e+01  -2.717949e+01  -2.092418e+01  \\\n",
       "inflation_crises                                                    \n",
       "0                                 1              1              1   \n",
       "1                                 0              0              0   \n",
       "\n",
       "inflation_annual_cpi  -1.807366e+01  -1.742424e+01  -1.724138e+01  \\\n",
       "inflation_crises                                                    \n",
       "0                                 1              1              1   \n",
       "1                                 0              0              0   \n",
       "\n",
       "inflation_annual_cpi  -1.687243e+01  -1.683136e+01  -1.600061e+01  \\\n",
       "inflation_crises                                                    \n",
       "0                                 1              1              1   \n",
       "1                                 0              0              0   \n",
       "\n",
       "inflation_annual_cpi  -1.594203e+01  ...   3.250290e+02   5.858444e+02  \\\n",
       "inflation_crises                     ...                                 \n",
       "0                                 1  ...              0              0   \n",
       "1                                 0  ...              1              1   \n",
       "\n",
       "inflation_annual_cpi   5.987448e+02   9.497710e+02   1.281114e+03  \\\n",
       "inflation_crises                                                    \n",
       "0                                 0              0              0   \n",
       "1                                 1              1              1   \n",
       "\n",
       "inflation_annual_cpi   1.379476e+03   2.672230e+03   4.146010e+03  \\\n",
       "inflation_crises                                                    \n",
       "0                                 0              0              0   \n",
       "1                                 1              1              1   \n",
       "\n",
       "inflation_annual_cpi   6.627989e+04   2.198970e+07  \n",
       "inflation_crises                                    \n",
       "0                                 0              0  \n",
       "1                                 1              1  \n",
       "\n",
       "[2 rows x 1022 columns]"
      ]
     },
     "execution_count": 203,
     "metadata": {},
     "output_type": "execute_result"
    }
   ],
   "source": [
    "pd.crosstab(df[\"inflation_crises\"], df[\"inflation_annual_cpi\"])\n",
    "#Видим, что уровень инфляции связан с инфляционном кризисом."
   ]
  },
  {
   "cell_type": "code",
   "execution_count": 208,
   "metadata": {},
   "outputs": [
    {
     "data": {
      "text/html": [
       "<div>\n",
       "<style scoped>\n",
       "    .dataframe tbody tr th:only-of-type {\n",
       "        vertical-align: middle;\n",
       "    }\n",
       "\n",
       "    .dataframe tbody tr th {\n",
       "        vertical-align: top;\n",
       "    }\n",
       "\n",
       "    .dataframe thead th {\n",
       "        text-align: right;\n",
       "    }\n",
       "</style>\n",
       "<table border=\"1\" class=\"dataframe\">\n",
       "  <thead>\n",
       "    <tr style=\"text-align: right;\">\n",
       "      <th>exch_usd</th>\n",
       "      <th>0.000000e+00</th>\n",
       "      <th>3.910000e-27</th>\n",
       "      <th>4.000000e-27</th>\n",
       "      <th>4.040000e-27</th>\n",
       "      <th>4.060000e-27</th>\n",
       "      <th>4.080000e-27</th>\n",
       "      <th>4.100000e-27</th>\n",
       "      <th>4.120000e-27</th>\n",
       "      <th>4.280000e-27</th>\n",
       "      <th>4.340000e-27</th>\n",
       "      <th>...</th>\n",
       "      <th>5.402825e+02</th>\n",
       "      <th>5.560371e+02</th>\n",
       "      <th>5.622096e+02</th>\n",
       "      <th>5.760000e+02</th>\n",
       "      <th>5.988096e+02</th>\n",
       "      <th>6.160000e+02</th>\n",
       "      <th>6.254954e+02</th>\n",
       "      <th>6.529534e+02</th>\n",
       "      <th>7.049511e+02</th>\n",
       "      <th>7.443061e+02</th>\n",
       "    </tr>\n",
       "    <tr>\n",
       "      <th>inflation_crises</th>\n",
       "      <th></th>\n",
       "      <th></th>\n",
       "      <th></th>\n",
       "      <th></th>\n",
       "      <th></th>\n",
       "      <th></th>\n",
       "      <th></th>\n",
       "      <th></th>\n",
       "      <th></th>\n",
       "      <th></th>\n",
       "      <th></th>\n",
       "      <th></th>\n",
       "      <th></th>\n",
       "      <th></th>\n",
       "      <th></th>\n",
       "      <th></th>\n",
       "      <th></th>\n",
       "      <th></th>\n",
       "      <th></th>\n",
       "      <th></th>\n",
       "      <th></th>\n",
       "    </tr>\n",
       "  </thead>\n",
       "  <tbody>\n",
       "    <tr>\n",
       "      <th>0</th>\n",
       "      <td>52</td>\n",
       "      <td>1</td>\n",
       "      <td>1</td>\n",
       "      <td>1</td>\n",
       "      <td>1</td>\n",
       "      <td>1</td>\n",
       "      <td>2</td>\n",
       "      <td>2</td>\n",
       "      <td>1</td>\n",
       "      <td>1</td>\n",
       "      <td>...</td>\n",
       "      <td>1</td>\n",
       "      <td>1</td>\n",
       "      <td>1</td>\n",
       "      <td>1</td>\n",
       "      <td>1</td>\n",
       "      <td>1</td>\n",
       "      <td>1</td>\n",
       "      <td>1</td>\n",
       "      <td>1</td>\n",
       "      <td>1</td>\n",
       "    </tr>\n",
       "    <tr>\n",
       "      <th>1</th>\n",
       "      <td>1</td>\n",
       "      <td>0</td>\n",
       "      <td>0</td>\n",
       "      <td>0</td>\n",
       "      <td>0</td>\n",
       "      <td>0</td>\n",
       "      <td>0</td>\n",
       "      <td>0</td>\n",
       "      <td>0</td>\n",
       "      <td>0</td>\n",
       "      <td>...</td>\n",
       "      <td>0</td>\n",
       "      <td>0</td>\n",
       "      <td>0</td>\n",
       "      <td>0</td>\n",
       "      <td>0</td>\n",
       "      <td>0</td>\n",
       "      <td>0</td>\n",
       "      <td>0</td>\n",
       "      <td>0</td>\n",
       "      <td>0</td>\n",
       "    </tr>\n",
       "  </tbody>\n",
       "</table>\n",
       "<p>2 rows × 772 columns</p>\n",
       "</div>"
      ],
      "text/plain": [
       "exch_usd          0.000000e+00  3.910000e-27  4.000000e-27  4.040000e-27  \\\n",
       "inflation_crises                                                           \n",
       "0                           52             1             1             1   \n",
       "1                            1             0             0             0   \n",
       "\n",
       "exch_usd          4.060000e-27  4.080000e-27  4.100000e-27  4.120000e-27  \\\n",
       "inflation_crises                                                           \n",
       "0                            1             1             2             2   \n",
       "1                            0             0             0             0   \n",
       "\n",
       "exch_usd          4.280000e-27  4.340000e-27  ...  5.402825e+02  5.560371e+02  \\\n",
       "inflation_crises                              ...                               \n",
       "0                            1             1  ...             1             1   \n",
       "1                            0             0  ...             0             0   \n",
       "\n",
       "exch_usd          5.622096e+02  5.760000e+02  5.988096e+02  6.160000e+02  \\\n",
       "inflation_crises                                                           \n",
       "0                            1             1             1             1   \n",
       "1                            0             0             0             0   \n",
       "\n",
       "exch_usd          6.254954e+02  6.529534e+02  7.049511e+02  7.443061e+02  \n",
       "inflation_crises                                                          \n",
       "0                            1             1             1             1  \n",
       "1                            0             0             0             0  \n",
       "\n",
       "[2 rows x 772 columns]"
      ]
     },
     "execution_count": 208,
     "metadata": {},
     "output_type": "execute_result"
    }
   ],
   "source": [
    "pd.crosstab(df[\"inflation_crises\"], df[\"exch_usd\"])\n",
    "#Видим, что курс валюты и уровень инфляции тоже связаны."
   ]
  },
  {
   "cell_type": "code",
   "execution_count": null,
   "metadata": {},
   "outputs": [],
   "source": []
  }
 ],
 "metadata": {
  "kernelspec": {
   "display_name": "Python 3",
   "language": "python",
   "name": "python3"
  },
  "language_info": {
   "codemirror_mode": {
    "name": "ipython",
    "version": 3
   },
   "file_extension": ".py",
   "mimetype": "text/x-python",
   "name": "python",
   "nbconvert_exporter": "python",
   "pygments_lexer": "ipython3",
   "version": "3.7.6"
  }
 },
 "nbformat": 4,
 "nbformat_minor": 4
}
