{
  "nbformat": 4,
  "nbformat_minor": 0,
  "metadata": {
    "colab": {
      "name": "the_game_of_life.ipynb",
      "provenance": [],
      "private_outputs": true,
      "collapsed_sections": []
    },
    "kernelspec": {
      "name": "python3",
      "display_name": "Python 3"
    },
    "accelerator": "GPU"
  },
  "cells": [
    {
      "cell_type": "markdown",
      "metadata": {
        "id": "ihyL1UqD1Qhd",
        "colab_type": "text"
      },
      "source": [
        "сначала нам надо понять, как лучше выводить матрицу в ascii символах. самые подходящие для визуализации - █ и ░. найдем их коды для chr"
      ]
    },
    {
      "cell_type": "code",
      "metadata": {
        "id": "t3QPhT4N1PcV",
        "colab_type": "code",
        "colab": {}
      },
      "source": [
        "ord('░')"
      ],
      "execution_count": null,
      "outputs": []
    },
    {
      "cell_type": "code",
      "metadata": {
        "id": "rAh1NLM71Ocy",
        "colab_type": "code",
        "colab": {}
      },
      "source": [
        "ord('█')"
      ],
      "execution_count": null,
      "outputs": []
    },
    {
      "cell_type": "markdown",
      "metadata": {
        "id": "9QXnY66N12YC",
        "colab_type": "text"
      },
      "source": [
        "подгружаем и импортим все что надо (в edit -> notebook settings надо поставить gpu)"
      ]
    },
    {
      "cell_type": "code",
      "metadata": {
        "id": "t6LAcRV_B1HJ",
        "colab_type": "code",
        "colab": {}
      },
      "source": [
        "!curl https://colab.chainer.org/install | sh -"
      ],
      "execution_count": null,
      "outputs": []
    },
    {
      "cell_type": "code",
      "metadata": {
        "id": "ka-r0VpZCzil",
        "colab_type": "code",
        "colab": {}
      },
      "source": [
        "import cupy as cp"
      ],
      "execution_count": null,
      "outputs": []
    },
    {
      "cell_type": "code",
      "metadata": {
        "id": "aRXIj4_7Hjfp",
        "colab_type": "code",
        "colab": {}
      },
      "source": [
        "import codecs"
      ],
      "execution_count": null,
      "outputs": []
    },
    {
      "cell_type": "code",
      "metadata": {
        "id": "kJn5aRafwouL",
        "colab_type": "code",
        "colab": {}
      },
      "source": [
        "import json"
      ],
      "execution_count": null,
      "outputs": []
    },
    {
      "cell_type": "markdown",
      "metadata": {
        "id": "c-rsBQxO19vx",
        "colab_type": "text"
      },
      "source": [
        "эти показатели можно изменять или брать вместо глайдера другие фигуры при достаточном размере поля. при выборе obj_hor и obj_vert ака горизонталь и вертикаль левого верхнего угла фигуры важно чтобы координаты этого угла были в матрице, а то ошибка будет))"
      ]
    },
    {
      "cell_type": "code",
      "metadata": {
        "id": "J-DZter4w6f3",
        "colab_type": "code",
        "colab": {}
      },
      "source": [
        "length = 10"
      ],
      "execution_count": null,
      "outputs": []
    },
    {
      "cell_type": "code",
      "metadata": {
        "id": "PLEZJHrdxT2I",
        "colab_type": "code",
        "colab": {}
      },
      "source": [
        "glider = [[0, 1], [1, 2], [2, 2], [2, 1], [2,0]]"
      ],
      "execution_count": null,
      "outputs": []
    },
    {
      "cell_type": "code",
      "metadata": {
        "id": "N7v6lk9nx3Sl",
        "colab_type": "code",
        "colab": {}
      },
      "source": [
        "obj_hor = int(input())\n",
        "obj_vert = int(input())"
      ],
      "execution_count": null,
      "outputs": []
    },
    {
      "cell_type": "markdown",
      "metadata": {
        "id": "Q_Mrg18O2NGP",
        "colab_type": "text"
      },
      "source": [
        "подготовительная работа по созданию матрицы с фигурой"
      ]
    },
    {
      "cell_type": "code",
      "metadata": {
        "id": "85rV-wvnvyKW",
        "colab_type": "code",
        "colab": {}
      },
      "source": [
        "matrix = cp.zeros(length*length).reshape(length, length)"
      ],
      "execution_count": null,
      "outputs": []
    },
    {
      "cell_type": "code",
      "metadata": {
        "id": "SymOscShxtLu",
        "colab_type": "code",
        "colab": {}
      },
      "source": [
        "for i in glider:\n",
        "     matrix[obj_hor + i[0]][obj_vert + i[1]] = 1"
      ],
      "execution_count": null,
      "outputs": []
    },
    {
      "cell_type": "markdown",
      "metadata": {
        "id": "U0Bs4IgD2s5P",
        "colab_type": "text"
      },
      "source": [
        "# the game of life #"
      ]
    },
    {
      "cell_type": "code",
      "metadata": {
        "id": "r3fIboj_OoMJ",
        "colab_type": "code",
        "colab": {}
      },
      "source": [
        "#обозначаем границы каждой клетки\n",
        "boundries = [[-1, -1], [-1, 0], [-1, 1], [1, 0], [0, -1],\n",
        "             [0, 1], [1, 1], [1, -1]]\n",
        "#обозначаем границы для верхней правой и нижней левой - они не попадают под первый \n",
        "#эксепшн\n",
        "corners = [[0, 0], [0, 1], [0, length - 1], [length - 1, length - 1],\n",
        "           [length - 2, length - 1], [length - 2, 0], [length - 2, 1],\n",
        "           [length - 1, 1]]\n",
        "numb = 0\n",
        "row = 0\n",
        "#матрица на случай первого эксепшна\n",
        "exceptmatrix = cp.rot90(matrix, k=2, axes=(0, 1))\n",
        "#новая матрица куда будет записываться новое состояние\n",
        "newmatrix = cp.zeros(length * length).reshape(\n",
        "    length, length)\n",
        "for z in matrix:\n",
        "    for j in z:\n",
        "        try:\n",
        "          # проверяем границы клетки. они хорошо проверяются только если клетка \n",
        "          # не стоит на правой или нижней границе - так срез берется плохо и индекс выходит \n",
        "          # out of range\n",
        "            k = [1 for i in boundries if\n",
        "                 matrix[row + i[0]][numb + i[1]] == 1.0]\n",
        "        except IndexError:\n",
        "            try:\n",
        "              # обрабатываем первый out of range поворачивая матрицу на 90 градусов - \n",
        "              # так правая и нижняя граница станут левой и верхней и срезы возьмутся\n",
        "                k = [1 for i in boundries if\n",
        "                     exceptmatrix[\n",
        "                         length - row - 1 + i[0]][\n",
        "                         length - numb - 1 + i[1]] == 1.0]\n",
        "            except IndexError:\n",
        "              #остается две клетки которые не попадают под прошлые эксепшны - \n",
        "              #их обрабатываем считай вручную\n",
        "                if row == length - 1 and numb == 0:\n",
        "                    k = [1 for i in corners if matrix[i[0]][i[1]] == 1.0]\n",
        "                else:\n",
        "                    if row == 0 and numb == length - 1:\n",
        "                        k = [1 for i in corners if matrix[i[1]][i[0]] == 1.0]\n",
        "# если насчитали у клетки больше определенное число соседей, меняем их по правилам\n",
        "        if len(k) == 3 or (\n",
        "                len(k) == 2 and matrix[row, numb] == 1):\n",
        "            newmatrix[row, numb] = 1.0\n",
        "        numb += 1\n",
        "    numb = 0\n",
        "    row += 1\n",
        "matrix = newmatrix\n",
        "\n",
        "#вывод матрицы в ?ascii? символах\n",
        "for i in matrix:\n",
        "  for j in i:\n",
        "    if j == 1.0:\n",
        "      print (chr(9608), end = '')\n",
        "    else:\n",
        "      print(chr(9617), end = '')\n",
        "  print('\\n')\n",
        "    "
      ],
      "execution_count": null,
      "outputs": []
    },
    {
      "cell_type": "markdown",
      "metadata": {
        "id": "f4GpeXy45KYB",
        "colab_type": "text"
      },
      "source": [
        "запомнить матрицу"
      ]
    },
    {
      "cell_type": "code",
      "metadata": {
        "id": "EF-5s8g65N-_",
        "colab_type": "code",
        "colab": {}
      },
      "source": [
        "filename = 'record.json'\n",
        "b = matrix.tolist()\n",
        "\n",
        "with open(filename, 'w') as file:\n",
        "  file_path = \"/path.json\"\n",
        "  json.dump(b, codecs.open(file_path, 'w', encoding='utf-8'), separators=(',', ':'), sort_keys=True, indent=4)\n",
        "\n",
        " # for i in matrix:\n",
        "  \n",
        "  #  for j in i:\n",
        "  #    json.dump(int(j), file)"
      ],
      "execution_count": null,
      "outputs": []
    },
    {
      "cell_type": "markdown",
      "metadata": {
        "id": "yv63Bucq4_6o",
        "colab_type": "text"
      },
      "source": [
        "вспомнить матрицу"
      ]
    },
    {
      "cell_type": "code",
      "metadata": {
        "id": "t2JttRYY49o1",
        "colab_type": "code",
        "colab": {}
      },
      "source": [
        "obj_text = codecs.open(file_path, 'r', encoding='utf-8').read()\n",
        "b_new = json.loads(obj_text)\n",
        "matrix = cp.array(b_new)"
      ],
      "execution_count": null,
      "outputs": []
    }
  ]
}